{
 "cells": [
  {
   "cell_type": "code",
   "execution_count": 1,
   "id": "75c95da8",
   "metadata": {},
   "outputs": [
    {
     "name": "stdout",
     "output_type": "stream",
     "text": [
      "Sorted array: [2, 15, 16, 22, 24]\n"
     ]
    }
   ],
   "source": [
    "def selection_sort(arr):\n",
    "    n = len(arr)\n",
    "    \n",
    "    for i in range(n - 1):  \n",
    "        min_index = i  \n",
    "        \n",
    "        for j in range(i + 1, n):\n",
    "            if arr[j] < arr[min_index]:\n",
    "                min_index = j\n",
    "                \n",
    "        arr[i], arr[min_index] = arr[min_index], arr[i]\n",
    "    \n",
    "    return arr\n",
    "\n",
    "# Example usage:\n",
    "arr = [24 ,15, 16, 22, 2]\n",
    "sorted_arr = selection_sort(arr)\n",
    "print(\"Sorted array:\", sorted_arr)\n"
   ]
  },
  {
   "cell_type": "code",
   "execution_count": 1,
   "id": "a6063737",
   "metadata": {},
   "outputs": [
    {
     "name": "stdout",
     "output_type": "stream",
     "text": [
      "Selected jobs:\n",
      "(1, 2, 100)\n",
      "(3, 1, 27)\n",
      "(5, 3, 15)\n"
     ]
    }
   ],
   "source": [
    "def greedy_search(jobs, n):\n",
    "    jobs.sort(key=lambda x: x[2], reverse=True) # sort jobs by profit in descending order\n",
    "    selected_jobs = []\n",
    "    slots = [0] * n # initialize slots with 0\n",
    "\n",
    "    for job in jobs:\n",
    "        job_id, deadline, profit = job\n",
    "        for i in range(deadline-1, -1, -1): # iterate from the deadline to 0\n",
    "            if slots[i] == 0: # if the slot is empty\n",
    "                slots[i] = profit # assign the profit to the slot\n",
    "                selected_jobs.append((job_id, i+1, profit)) # add the job to the selected list\n",
    "                break\n",
    "\n",
    "    return selected_jobs\n",
    "jobs = [(1, 2, 100), (2, 1, 19), (3, 2, 27), (4, 1, 25), (5, 3, 15)]\n",
    "n = 3\n",
    "\n",
    "selected_jobs = greedy_search(jobs, n)\n",
    "\n",
    "print(\"Selected jobs:\")\n",
    "for job in selected_jobs:\n",
    "    print(job)"
   ]
  },
  {
   "cell_type": "code",
   "execution_count": 2,
   "id": "1cf8b493",
   "metadata": {},
   "outputs": [
    {
     "name": "stdout",
     "output_type": "stream",
     "text": [
      "[[0, 0, 0], [0, 9, 1], [1, 19, 3], [3, 31, 4], [3, 51, 2]]\n"
     ]
    }
   ],
   "source": [
    "import heapq\n",
    "\n",
    "\n",
    "class Prims:\n",
    "    def __init__(self, _vertices, _graph):\n",
    "        self.graph = _graph\n",
    "        self.size = _vertices\n",
    "\n",
    "    def find_mst(self):\n",
    "        mst = []\n",
    "        min_heap = [[0, 0, 0]]  # [weight, source, destination]\n",
    "        visit = set()\n",
    "        while len(min_heap) > 0:\n",
    "            weight, source, destination = heapq.heappop(min_heap)\n",
    "            if destination in visit:\n",
    "                continue\n",
    "            mst.append([source, weight, destination])\n",
    "            visit.add(destination)\n",
    "            for i in range(self.size):\n",
    "                if self.graph[destination][i] > 0 and i not in visit:\n",
    "                    heapq.heappush(min_heap, [self.graph[destination][i], destination, i])\n",
    "        return mst\n",
    "\n",
    "\n",
    "graph = [[0, 9, 75, 0, 0],\n",
    "         [9, 0, 95, 19, 42],\n",
    "         [75, 95, 0, 51, 66],\n",
    "         [0, 19, 51, 0, 31],\n",
    "         [0, 42, 66, 31, 0]]\n",
    "\n",
    "algo = Prims(5, graph)\n",
    "print(algo.find_mst())"
   ]
  },
  {
   "cell_type": "code",
   "execution_count": 9,
   "id": "e8d1710f",
   "metadata": {},
   "outputs": [
    {
     "name": "stdout",
     "output_type": "stream",
     "text": [
      "[[1, 2, 1], [2, 3, 2], [3, 4, 2], [3, 5, 3], [5, 6, 7]]\n"
     ]
    }
   ],
   "source": [
    "class Kruskal:\n",
    "    def __init__(self, n_vertices, i_graph):\n",
    "        self.graph = i_graph\n",
    "        self.size = n_vertices\n",
    "        self.rank = []\n",
    "        self.parent = []\n",
    "\n",
    "    def find_parent(self, vertex):\n",
    "        if self.parent[vertex] == vertex:\n",
    "            return vertex\n",
    "        self.parent[vertex] = self.find_parent(self.parent[vertex])\n",
    "        return self.parent[vertex]\n",
    "\n",
    "    def union(self, u, v):\n",
    "        parent_u = self.find_parent(u)\n",
    "        parent_v = self.find_parent(v)\n",
    "        if parent_v == parent_u:\n",
    "            return\n",
    "        if self.rank[parent_u] < self.rank[parent_v]:\n",
    "            self.parent[parent_u] = parent_v\n",
    "        else:\n",
    "            self.parent[parent_v] = parent_u\n",
    "            self.rank[parent_u] += 1\n",
    "\n",
    "    def find_mst(self):\n",
    "        tree = []\n",
    "        e, index = 0, 0\n",
    "        self.graph.sort(key=lambda k: k[2])\n",
    "        for i in range(self.size + 1):\n",
    "            self.parent.append(i)\n",
    "            self.rank.append(0)\n",
    "        while e < self.size - 1:\n",
    "            u, v, w = self.graph[index]\n",
    "            index += 1\n",
    "            x, y = self.find_parent(u), self.find_parent(v)\n",
    "            if x != y:\n",
    "                e += 1    \n",
    "                tree.append([u, v, w])\n",
    "                self.union(x, y)\n",
    "        return tree\n",
    "\n",
    "\n",
    "graph = [[1, 2, 1], [1, 5, 5], [2, 1, 1], [2, 3, 2], [3, 2, 2], [3, 4, 2], [3, 5, 3], [4, 3, 2], [4, 5, 6], [5, 1, 5],\n",
    "         [5, 3, 3], [5, 4, 6], [5, 6, 7], [6, 5, 7]]\n",
    "algo = Kruskal(6, graph)\n",
    "print(algo.find_mst())"
   ]
  },
  {
   "cell_type": "code",
   "execution_count": 10,
   "id": "6d89392e",
   "metadata": {},
   "outputs": [
    {
     "name": "stdout",
     "output_type": "stream",
     "text": [
      "{0: {1: 4, 2: 4}, 1: {0: 4, 2: 2}, 2: {0: 4, 1: 2, 3: 3, 4: 1, 5: 6}, 3: {2: 3, 5: 2}, 4: {2: 1, 5: 3}, 5: {2: 6, 3: 2, 4: 3}}\n",
      "[0, inf, inf, inf, inf, inf]\n",
      "[0, 4, 4, 7, 5, 8]\n"
     ]
    }
   ],
   "source": [
    "import heapq\n",
    "from typing import List\n",
    "\n",
    "\n",
    "def djikstra(graph_inner, starting, vertices) -> List:\n",
    "    pq = []\n",
    "    dist = [float('inf') for i in range(vertices)]\n",
    "    dist[starting] = 0\n",
    "    print(dist)\n",
    "    heapq.heappush(pq, [0, starting])\n",
    "\n",
    "    while len(pq) != 0:\n",
    "        node = heapq.heappop(pq)\n",
    "        dis = node[0]\n",
    "        element = node[1]\n",
    "\n",
    "        for el in graph_inner[element].keys():\n",
    "            adj = el\n",
    "            weight = graph_inner[element][el]\n",
    "            if dist[adj] > dis + weight:\n",
    "                dist[adj] = dis + weight\n",
    "                heapq.heappush(pq, [dis + weight, adj])\n",
    "    return dist\n",
    "\n",
    "\n",
    "graph = {\n",
    "    0: {1: 4, 2: 4},\n",
    "    1: {0: 4, 2: 2},\n",
    "    2: {0: 4, 1: 2, 3: 3, 4: 1, 5: 6},\n",
    "    3: {2: 3, 5: 2},\n",
    "    4: {2: 1, 5: 3},\n",
    "    5: {2: 6, 3: 2, 4: 3}\n",
    "}\n",
    "\n",
    "print(graph)\n",
    "print(djikstra(graph, 0, 6))"
   ]
  },
  {
   "cell_type": "code",
   "execution_count": null,
   "id": "65171ab8",
   "metadata": {},
   "outputs": [],
   "source": []
  }
 ],
 "metadata": {
  "kernelspec": {
   "display_name": "Python 3 (ipykernel)",
   "language": "python",
   "name": "python3"
  },
  "language_info": {
   "codemirror_mode": {
    "name": "ipython",
    "version": 3
   },
   "file_extension": ".py",
   "mimetype": "text/x-python",
   "name": "python",
   "nbconvert_exporter": "python",
   "pygments_lexer": "ipython3",
   "version": "3.9.7"
  }
 },
 "nbformat": 4,
 "nbformat_minor": 5
}
