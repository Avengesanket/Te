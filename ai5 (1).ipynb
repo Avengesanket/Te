{
 "cells": [
  {
   "cell_type": "code",
   "execution_count": null,
   "id": "373b564b-40b2-4039-aca5-f884c6548ebe",
   "metadata": {},
   "outputs": [
    {
     "name": "stdout",
     "output_type": "stream",
     "text": [
      "Chatbot: Hello! How can I assist you today?\n",
      "You: \n",
      "  @media print {\n",
      "    .ms-editor-squiggles-container {\n",
      "      display:none !important;\n",
      "    }\n",
      "  }\n",
      "  .ms-editor-squiggles-container {\n",
      "    all: initial;\n",
      "  }what's your name\n",
      "Chatbot: Hmm.\n",
      "You: what's your name?\n",
      "Chatbot: My name is Chatbot. What's yours?\n",
      "You: Sam\n",
      "Chatbot: That's interesting.\n"
     ]
    }
   ],
   "source": [
    "import random\n",
    "\n",
    "# Define responses for different types of messages\n",
    "greetings = [\"hello\", \"hi\", \"hey\", \"greetings\", \"howdy\"]\n",
    "farewells = [\"bye\", \"goodbye\", \"see you later\", \"take care\"]\n",
    "thanks = [\"thank you\", \"thanks\", \"thanks a lot\", \"much appreciated\"]\n",
    "name_questions = [\"what's your name?\", \"may I know your name?\", \"what should I call you?\"]\n",
    "responses = [\"That's interesting.\", \"Tell me more.\", \"I see.\", \"Interesting.\", \"Hmm.\"]\n",
    "\n",
    "# Function to generate responses\n",
    "def generate_response(message):\n",
    "    if message.lower() in greetings:\n",
    "        return random.choice([\"Hello!\", \"Hi there!\", \"Hey!\"])\n",
    "    elif message.lower() in farewells:\n",
    "        return random.choice([\"Goodbye!\", \"See you later!\", \"Take care!\"])\n",
    "    elif message.lower() in thanks:\n",
    "        return random.choice([\"You're welcome!\", \"No problem!\", \"Glad to help!\"])\n",
    "    elif message.lower() in name_questions:\n",
    "        return \"My name is Chatbot. What's yours?\"\n",
    "    else:\n",
    "        return random.choice(responses)\n",
    "\n",
    "# Main interaction loop\n",
    "print(\"Chatbot: Hello! How can I assist you today?\")\n",
    "while True:\n",
    "    user_input = input(\"You: \").strip()\n",
    "    if user_input.lower() == \"exit\":\n",
    "        print(\"Chatbot: Goodbye!\")\n",
    "        break\n",
    "    response = generate_response(user_input)\n",
    "    print(\"Chatbot:\", response)"
   ]
  },
  {
   "cell_type": "code",
   "execution_count": null,
   "id": "8d3233b8-506c-44d6-a913-5fa4ae34345d",
   "metadata": {},
   "outputs": [],
   "source": []
  },
  {
   "cell_type": "code",
   "execution_count": null,
   "id": "ec6df2af",
   "metadata": {},
   "outputs": [],
   "source": []
  }
 ],
 "metadata": {
  "kernelspec": {
   "display_name": "Python 3 (ipykernel)",
   "language": "python",
   "name": "python3"
  },
  "language_info": {
   "codemirror_mode": {
    "name": "ipython",
    "version": 3
   },
   "file_extension": ".py",
   "mimetype": "text/x-python",
   "name": "python",
   "nbconvert_exporter": "python",
   "pygments_lexer": "ipython3",
   "version": "3.9.7"
  }
 },
 "nbformat": 4,
 "nbformat_minor": 5
}
