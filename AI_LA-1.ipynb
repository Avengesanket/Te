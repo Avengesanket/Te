{
 "cells": [
  {
   "cell_type": "code",
   "execution_count": 22,
   "id": "e035f260",
   "metadata": {},
   "outputs": [
    {
     "name": "stdout",
     "output_type": "stream",
     "text": [
      "Depth First Traversal (starting from vertex 0): \n",
      "0 1 2 3 4 5 6 7 \n",
      "Breadth First Traversal (starting from vertex 0): \n",
      "0 1 2 6 7 3 4 5 "
     ]
    }
   ],
   "source": [
    "#LA-1\n",
    "from collections import deque\n",
    "class Graph:\n",
    "    def __init__(self, vertices):\n",
    "        self.V = vertices\n",
    "        self.adj = [[] for _ in range(self.V)]\n",
    "\n",
    "    def add_edge(self, u, v):\n",
    "        self.adj[u].append(v)\n",
    "        self.adj[v].append(u)\n",
    "\n",
    "    def DFSUtil(self, v, visited):\n",
    "        visited[v] = True\n",
    "        print(v, end=\" \")\n",
    "        for neighbor in self.adj[v]:\n",
    "            if not visited[neighbor]:\n",
    "                self.DFSUtil(neighbor, visited)\n",
    "\n",
    "    def DFS(self):\n",
    "        visited = [False] * self.V\n",
    "        for i in range(self.V):\n",
    "            if not visited[i]:\n",
    "                self.DFSUtil(i, visited)\n",
    "\n",
    "    def BFSUtil(self, v, visited):\n",
    "        queue = deque([v])\n",
    "        visited[v] = True\n",
    "        while queue:\n",
    "            s = queue.popleft()\n",
    "            print(s, end=\" \")\n",
    "            for neighbor in self.adj[s]:\n",
    "                if not visited[neighbor]:\n",
    "                    visited[neighbor] = True\n",
    "                    queue.append(neighbor)\n",
    "\n",
    "    def BFS(self):\n",
    "        visited = [False] * self.V\n",
    "        for i in range(self.V):\n",
    "            if not visited[i]:\n",
    "                self.BFSUtil(i, visited)\n",
    "\n",
    "graph = Graph(8)\n",
    "graph.add_edge(1, 2)\n",
    "graph.add_edge(1, 6)\n",
    "graph.add_edge(1, 7)\n",
    "graph.add_edge(2, 1)\n",
    "graph.add_edge(2, 3)\n",
    "graph.add_edge(3, 2)\n",
    "graph.add_edge(3, 4)\n",
    "graph.add_edge(4, 3)\n",
    "graph.add_edge(4, 5)\n",
    "graph.add_edge(4, 6)\n",
    "graph.add_edge(5, 4)\n",
    "graph.add_edge(5, 6)\n",
    "graph.add_edge(6, 1)\n",
    "graph.add_edge(6, 4)\n",
    "graph.add_edge(6, 5)\n",
    "graph.add_edge(7, 1)\n",
    "graph.add_edge(7, 3)\n",
    "\n",
    "print(\"Depth First Traversal (starting from vertex 0): \")\n",
    "graph.DFS()\n",
    "print(\"\\nBreadth First Traversal (starting from vertex 0): \")\n",
    "graph.BFS()"
   ]
  },
  {
   "cell_type": "code",
   "execution_count": 33,
   "id": "5b674106",
   "metadata": {},
   "outputs": [],
   "source": [
    "#LA-1\n",
    "graph = {\n",
    "    1: [2 ,6 ,7],\n",
    "    2: [1 ,3],\n",
    "    3: [2 ,4, 7],\n",
    "    4: [3, 5, 6],\n",
    "    5: [4, 6],\n",
    "    6: [1, 4 ,5],\n",
    "    7: [1, 3]\n",
    "}\n",
    "visited = []"
   ]
  },
  {
   "cell_type": "code",
   "execution_count": 37,
   "id": "99a27179",
   "metadata": {},
   "outputs": [],
   "source": [
    "\n",
    "\n",
    "#BFS\n",
    "def bfs(node, target):\n",
    "    queue = [node]\n",
    "    visited.append(node)\n",
    "    if node == target:\n",
    "        return True\n",
    "    while queue:\n",
    "        n = queue.pop(0)\n",
    "        for element in graph[n]:\n",
    "            if element == target:\n",
    "                visited.append(element)\n",
    "                return True\n",
    "            if element not in visited:\n",
    "                queue.append(element)\n",
    "                visited.append(element)\n",
    "    return False\n",
    "\n",
    "#DFS\n",
    "def dfs(node, target):\n",
    "    if node not in visited: \n",
    "        visited.append(node)\n",
    "        if node == target:\n",
    "            return True\n",
    "        for element in graph[node]:\n",
    "            if dfs(element, target):\n",
    "                return True\n",
    "    return False\n",
    "\n"
   ]
  },
  {
   "cell_type": "code",
   "execution_count": 42,
   "id": "e9c2182c",
   "metadata": {},
   "outputs": [
    {
     "data": {
      "text/plain": [
       "[1, 2, 6, 7, 3, 4, 5]"
      ]
     },
     "execution_count": 42,
     "metadata": {},
     "output_type": "execute_result"
    }
   ],
   "source": [
    "visited = []\n",
    "bfs(1, None)\n",
    "visited"
   ]
  },
  {
   "cell_type": "code",
   "execution_count": 41,
   "id": "e7a3505f",
   "metadata": {},
   "outputs": [
    {
     "data": {
      "text/plain": [
       "[1, 2, 3, 4, 5, 6, 7]"
      ]
     },
     "execution_count": 41,
     "metadata": {},
     "output_type": "execute_result"
    }
   ],
   "source": [
    "visited = []\n",
    "dfs(1, None)\n",
    "visited"
   ]
  },
  {
   "cell_type": "code",
   "execution_count": null,
   "id": "1ec8f864",
   "metadata": {},
   "outputs": [],
   "source": []
  }
 ],
 "metadata": {
  "kernelspec": {
   "display_name": "Python 3 (ipykernel)",
   "language": "python",
   "name": "python3"
  },
  "language_info": {
   "codemirror_mode": {
    "name": "ipython",
    "version": 3
   },
   "file_extension": ".py",
   "mimetype": "text/x-python",
   "name": "python",
   "nbconvert_exporter": "python",
   "pygments_lexer": "ipython3",
   "version": "3.9.7"
  }
 },
 "nbformat": 4,
 "nbformat_minor": 5
}
